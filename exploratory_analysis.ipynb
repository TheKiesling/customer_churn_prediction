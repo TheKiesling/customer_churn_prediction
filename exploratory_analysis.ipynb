{
 "cells": [
  {
   "cell_type": "markdown",
   "id": "19eb084c",
   "metadata": {},
   "source": [
    "# EJERCICIO 1 - ANÁLISIS EXPLORATORIO\n",
    "### Machine Learning Engineering\n",
    "- Francisco Castillo - 21562\n",
    "- Adrian Fulladolsa - 21592\n",
    "-  Jose Kiesling - 21581\n",
    "- Diego Lemus - 21469\n",
    "\n",
    "====================================="
   ]
  },
  {
   "cell_type": "markdown",
   "id": "69b4a731",
   "metadata": {},
   "source": [
    "### LIBRERÍAS"
   ]
  },
  {
   "cell_type": "code",
   "execution_count": 46,
   "id": "38efe6d8",
   "metadata": {},
   "outputs": [],
   "source": [
    "import pandas as pd\n",
    "import numpy as np\n",
    "import matplotlib.pyplot as plt"
   ]
  },
  {
   "cell_type": "markdown",
   "id": "6d6dbdff",
   "metadata": {},
   "source": [
    "### DATASET"
   ]
  },
  {
   "cell_type": "code",
   "execution_count": 47,
   "id": "41d5783e",
   "metadata": {},
   "outputs": [],
   "source": [
    "file_path = \"data/customer_churn_prediction_dataset.csv\"\n",
    "df = pd.read_csv(file_path)"
   ]
  },
  {
   "cell_type": "code",
   "execution_count": 48,
   "id": "b19ddb12",
   "metadata": {},
   "outputs": [
    {
     "name": "stdout",
     "output_type": "stream",
     "text": [
      "  customerID  gender  SeniorCitizen Partner Dependents  tenure PhoneService  \\\n",
      "0  0001-XXXX    Male              0     Yes        Yes       5           No   \n",
      "1  0002-XXXX  Female              0      No         No      42          Yes   \n",
      "2  0003-XXXX    Male              0      No         No      61          Yes   \n",
      "3  0004-XXXX    Male              1      No        Yes      22          Yes   \n",
      "4  0005-XXXX    Male              1     Yes        Yes      21           No   \n",
      "\n",
      "      MultipleLines InternetService       OnlineSecurity  ...  \\\n",
      "0               Yes              No                   No  ...   \n",
      "1  No phone service             DSL                  Yes  ...   \n",
      "2  No phone service              No                   No  ...   \n",
      "3                No              No  No internet service  ...   \n",
      "4                No             DSL                   No  ...   \n",
      "\n",
      "      DeviceProtection TechSupport          StreamingTV      StreamingMovies  \\\n",
      "0                   No          No                   No  No internet service   \n",
      "1                   No          No  No internet service  No internet service   \n",
      "2                   No         Yes                  Yes                   No   \n",
      "3                  Yes          No  No internet service                  Yes   \n",
      "4  No internet service          No                   No  No internet service   \n",
      "\n",
      "         Contract PaperlessBilling     PaymentMethod MonthlyCharges  \\\n",
      "0  Month-to-month              Yes       Credit card          27.43   \n",
      "1        Two year               No  Electronic check          38.28   \n",
      "2        One year               No     Bank transfer         106.44   \n",
      "3  Month-to-month               No  Electronic check          92.49   \n",
      "4        One year               No     Bank transfer          19.63   \n",
      "\n",
      "   TotalCharges  Churn  \n",
      "0        137.15    Yes  \n",
      "1       1607.76    Yes  \n",
      "2       6492.84    Yes  \n",
      "3       2034.78     No  \n",
      "4        412.23    Yes  \n",
      "\n",
      "[5 rows x 21 columns]\n"
     ]
    }
   ],
   "source": [
    "print(df.head())"
   ]
  },
  {
   "cell_type": "markdown",
   "id": "41e12916",
   "metadata": {},
   "source": [
    "### ANÁLISIS EXPLORATORIO"
   ]
  },
  {
   "cell_type": "code",
   "execution_count": 49,
   "id": "e445708a",
   "metadata": {},
   "outputs": [],
   "source": [
    "def print_title(title):\n",
    "    print(\"\\n\" + title)\n",
    "    print(\"-\" * 50)"
   ]
  },
  {
   "cell_type": "code",
   "execution_count": 50,
   "id": "c1d20805",
   "metadata": {},
   "outputs": [
    {
     "name": "stdout",
     "output_type": "stream",
     "text": [
      "\n",
      "Dimensiones del dataset\n",
      "--------------------------------------------------\n",
      "Cantidad de filas: 300\n",
      "Cantidad de columnas: 21\n",
      "\n"
     ]
    }
   ],
   "source": [
    "print_title(\"Dimensiones del dataset\")\n",
    "print(f\"Cantidad de filas: {df.shape[0]:,}\")\n",
    "print(f\"Cantidad de columnas: {df.shape[1]}\\n\")"
   ]
  },
  {
   "cell_type": "code",
   "execution_count": 51,
   "id": "72c66049",
   "metadata": {},
   "outputs": [
    {
     "name": "stdout",
     "output_type": "stream",
     "text": [
      "\n",
      "Tipos de datos por columna\n",
      "--------------------------------------------------\n",
      "- customerID           : object\n",
      "- gender               : object\n",
      "- SeniorCitizen        : int64\n",
      "- Partner              : object\n",
      "- Dependents           : object\n",
      "- tenure               : int64\n",
      "- PhoneService         : object\n",
      "- MultipleLines        : object\n",
      "- InternetService      : object\n",
      "- OnlineSecurity       : object\n",
      "- OnlineBackup         : object\n",
      "- DeviceProtection     : object\n",
      "- TechSupport          : object\n",
      "- StreamingTV          : object\n",
      "- StreamingMovies      : object\n",
      "- Contract             : object\n",
      "- PaperlessBilling     : object\n",
      "- PaymentMethod        : object\n",
      "- MonthlyCharges       : float64\n",
      "- TotalCharges         : float64\n",
      "- Churn                : object\n"
     ]
    }
   ],
   "source": [
    "print_title(\"Tipos de datos por columna\")\n",
    "for col, dtype in df.dtypes.items():\n",
    "    print(f\"- {col:<20} : {dtype}\")"
   ]
  },
  {
   "cell_type": "code",
   "execution_count": 54,
   "id": "59c77474",
   "metadata": {},
   "outputs": [
    {
     "name": "stdout",
     "output_type": "stream",
     "text": [
      "\n",
      "Tipos de valores únicos por columna:\n",
      "--------------------------------------------------\n",
      "- customerID           : 300\n",
      "- gender               :   2\n",
      "- SeniorCitizen        :   2\n",
      "- Partner              :   2\n",
      "- Dependents           :   2\n",
      "- tenure               :  70\n",
      "- PhoneService         :   2\n",
      "- MultipleLines        :   3\n",
      "- InternetService      :   3\n",
      "- OnlineSecurity       :   3\n",
      "- OnlineBackup         :   3\n",
      "- DeviceProtection     :   3\n",
      "- TechSupport          :   3\n",
      "- StreamingTV          :   3\n",
      "- StreamingMovies      :   3\n",
      "- Contract             :   3\n",
      "- PaperlessBilling     :   2\n",
      "- PaymentMethod        :   4\n",
      "- MonthlyCharges       : 295\n",
      "- TotalCharges         : 299\n",
      "- Churn                :   2\n"
     ]
    }
   ],
   "source": [
    "print_title(\"Tipos de valores únicos por columna:\")\n",
    "for col in df.columns:\n",
    "    unique_count = df[col].nunique()\n",
    "    print(f\"- {col:<20} : {unique_count:>3}\")"
   ]
  },
  {
   "cell_type": "code",
   "execution_count": 55,
   "id": "e80167e1",
   "metadata": {},
   "outputs": [
    {
     "name": "stdout",
     "output_type": "stream",
     "text": [
      "\n",
      "Valores únicos por columna:\n",
      "--------------------------------------------------\n",
      "- gender:\n",
      "['Male' 'Female']\n",
      "\n",
      "- SeniorCitizen:\n",
      "[0 1]\n",
      "\n",
      "- Partner:\n",
      "['Yes' 'No']\n",
      "\n",
      "- Dependents:\n",
      "['Yes' 'No']\n",
      "\n",
      "- tenure:\n",
      "[ 5 42 61 22 21 70  1 12 46 34 49 45 27 26 47 56 63 48 36  8 52 14 28  2\n",
      " 59  7  3 23 18 38 15 64 39 57 17 44 25 13 68 10 67 40 41  6 33 53  4 62\n",
      " 24 55  9 31 66 51 19 20 37 11 50 65 35 69 60 72 30 32 29 43 54 71]\n",
      "\n",
      "- PhoneService:\n",
      "['No' 'Yes']\n",
      "\n",
      "- MultipleLines:\n",
      "['Yes' 'No phone service' 'No']\n",
      "\n",
      "- InternetService:\n",
      "['No' 'DSL' 'Fiber optic']\n",
      "\n",
      "- OnlineSecurity:\n",
      "['No' 'Yes' 'No internet service']\n",
      "\n",
      "- OnlineBackup:\n",
      "['Yes' 'No internet service' 'No']\n",
      "\n",
      "- DeviceProtection:\n",
      "['No' 'Yes' 'No internet service']\n",
      "\n",
      "- TechSupport:\n",
      "['No' 'Yes' 'No internet service']\n",
      "\n",
      "- StreamingTV:\n",
      "['No' 'No internet service' 'Yes']\n",
      "\n",
      "- StreamingMovies:\n",
      "['No internet service' 'No' 'Yes']\n",
      "\n",
      "- Contract:\n",
      "['Month-to-month' 'Two year' 'One year']\n",
      "\n",
      "- PaperlessBilling:\n",
      "['Yes' 'No']\n",
      "\n",
      "- PaymentMethod:\n",
      "['Credit card' 'Electronic check' 'Bank transfer' 'Mailed check']\n",
      "\n",
      "- Churn:\n",
      "['Yes' 'No']\n",
      "\n"
     ]
    }
   ],
   "source": [
    "print_title(\"Valores únicos por columna:\")\n",
    "exclude_col = ['customerID', 'MonthlyCharges', 'TotalCharges']\n",
    "\n",
    "for col in df.columns:\n",
    "    if col in exclude_col:\n",
    "        continue\n",
    "    unique_values = df[col].unique()\n",
    "    print(f\"- {col}:\")\n",
    "    print(f\"{unique_values}\\n\")"
   ]
  },
  {
   "cell_type": "markdown",
   "id": "86e777b4",
   "metadata": {},
   "source": [
    "### Descripción de lo que representan cinco columnas del dataset"
   ]
  },
  {
   "cell_type": "markdown",
   "id": "525e600c",
   "metadata": {},
   "source": [
    "1. tenure: Número de meses que el cliente lleva usando el servicio. Un valor alto indica mayor antigüedad y viceversa.\n",
    "\n",
    "2. MonthlyCharges: Importe que paga el cliente cada mes, puede correlacionarse con el tipo y la cantidad de servicios contratados; importes más elevados a veces se asocian un coste excesivo.\n",
    "\n",
    "3. Contract: Tipo de contrato que tiene el cliente con la compañía.\n",
    "    - Month-to-month: renovación cada mes, es más flexible.\n",
    "    - One year o Two year: contratos fijos a 12 o 24 meses, hay más retención.\n",
    "\n",
    "4. InternetService: Tecnología de acceso a internet contratada.\n",
    "    - DSL\n",
    "    - Fiber optic\n",
    "    - No (sin acceso).\n",
    "\n",
    "5. Churn: Variable objetivo indicando si el cliente canceló el servicio (\"Yes\") o sigue activo (\"No\")."
   ]
  },
  {
   "cell_type": "markdown",
   "id": "a5396f84",
   "metadata": {},
   "source": [
    "### Columnas a usar como entrada para un modelo de machine learning"
   ]
  }
 ],
 "metadata": {
  "kernelspec": {
   "display_name": "Python 3",
   "language": "python",
   "name": "python3"
  },
  "language_info": {
   "codemirror_mode": {
    "name": "ipython",
    "version": 3
   },
   "file_extension": ".py",
   "mimetype": "text/x-python",
   "name": "python",
   "nbconvert_exporter": "python",
   "pygments_lexer": "ipython3",
   "version": "3.10.11"
  }
 },
 "nbformat": 4,
 "nbformat_minor": 5
}
